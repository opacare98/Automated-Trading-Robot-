{
 "cells": [
  {
   "cell_type": "code",
   "execution_count": 1,
   "id": "3304faf8",
   "metadata": {},
   "outputs": [],
   "source": [
    "from keys import ameritrade\n",
    "import requests\n",
    "import time\n",
    "from statistics import mean, stdev\n",
    "import matplotlib.pyplot as plt\n",
    "from time import sleep"
   ]
  },
  {
   "cell_type": "code",
   "execution_count": 2,
   "id": "218a5621",
   "metadata": {},
   "outputs": [],
   "source": [
    "Stock = \"SPY\"\n",
    "TIME_PERIOD = 20\n",
    "THRESHOLD = 0\n",
    "# THRESHOLD = 0.1\n",
    "PORTION = 0.5\n",
    "endDate = \"1654308000000\" #US/Eastern Time: 2022-06-03 22:00:00\n",
    "# endDate = \"1654912800000\" #US/Eastern Time: 2022-06-10 22:00:00"
   ]
  },
  {
   "cell_type": "code",
   "execution_count": 3,
   "id": "e3eef927",
   "metadata": {},
   "outputs": [],
   "source": [
    "position = {\n",
    "    \"amount\": 100,\n",
    "    \"average_cost\": 400,\n",
    "    \"earning\": 0\n",
    "}"
   ]
  },
  {
   "cell_type": "code",
   "execution_count": 4,
   "id": "c31b1297",
   "metadata": {},
   "outputs": [],
   "source": [
    "payload = {\n",
    "    \"apikey\": ameritrade,\n",
    "    \"periodType\": \"day\",\n",
    "    \"period\": \"5\",\n",
    "    \"frequencyType\": \"minute\",\n",
    "    \"frequency\": \"1\",\n",
    "    \"endDate\": endDate\n",
    "}"
   ]
  },
  {
   "cell_type": "code",
   "execution_count": 9,
   "id": "34086198",
   "metadata": {
    "scrolled": true
   },
   "outputs": [
    {
     "name": "stdout",
     "output_type": "stream",
     "text": [
      "Was a nice sleep, now let me continue...\n",
      "Was a nice sleep, now let me continue...\n"
     ]
    }
   ],
   "source": [
    "url = \"https://api.tdameritrade.com/v1/marketdata/{}/pricehistory\".format(Stock)\n",
    "results = ''\n",
    "while not results:\n",
    "    try:\n",
    "        results = requests.get(url, params=payload)\n",
    "    except:\n",
    "        sleep(5)\n",
    "        print(\"Was a nice sleep, now let me continue...\")\n",
    "        continue\n",
    "price, bup_price, bdown_price = [], [], []\n",
    "position_amount = []"
   ]
  },
  {
   "cell_type": "code",
   "execution_count": 10,
   "id": "b1d9546c",
   "metadata": {},
   "outputs": [],
   "source": [
    "# function to calculate bollinger bands\n",
    "def get_BBands(prices, time_period):\n",
    "    prices = prices[-time_period:]\n",
    "    ma = mean(prices)\n",
    "    std = stdev(prices)\n",
    "    bup = ma + 2*std # THRESHOLD可以加到这里\n",
    "    bdown = ma - 2*std\n",
    "    return bup, bdown"
   ]
  },
  {
   "cell_type": "code",
   "execution_count": 11,
   "id": "687c9c14",
   "metadata": {},
   "outputs": [],
   "source": [
    "# place order\n",
    "def place_order(bup, bdown, cur_price):\n",
    "    if cur_price + THRESHOLD > bup:\n",
    "        # place selling order\n",
    "        selling_amount = position[\"amount\"]*PORTION\n",
    "        if selling_amount < 0.1:\n",
    "            print(\"cannot sell stock at amount less than 0.1\")\n",
    "            return\n",
    "        position[\"earning\"] += selling_amount*(cur_price-position[\"average_cost\"])\n",
    "        position[\"amount\"] = position[\"amount\"]*(1-PORTION)\n",
    "        print(\"Sell {} amount of {} at ${}\".format(str(selling_amount), Stock, str(cur_price)))\n",
    "        print(position[\"earning\"])\n",
    "    if cur_price - THRESHOLD < bdown:\n",
    "        # place buying order\n",
    "        buying_amount = position[\"amount\"] * PORTION\n",
    "        total_value = buying_amount * cur_price + position[\"amount\"] * position[\"average_cost\"]\n",
    "        position[\"amount\"] = position[\"amount\"] * (1 + PORTION)\n",
    "        position[\"average_cost\"] = total_value / position[\"amount\"]\n",
    "        print(\"Buy {} amount of {} at ${}\".format(str(buying_amount), Stock, str(cur_price)))"
   ]
  },
  {
   "cell_type": "code",
   "execution_count": 12,
   "id": "6d2e8baf",
   "metadata": {},
   "outputs": [],
   "source": [
    "def main():\n",
    "    for candle in results.json()[\"candles\"]:\n",
    "        cur_time = time.strftime('%Y-%m-%d %H:%M:%S', time.localtime(int(candle[\"datetime\"])/1000.0))\n",
    "        cur_price = (candle[\"low\"] + candle[\"high\"]) / 2\n",
    "        price.append(cur_price)\n",
    "\n",
    "        if len(price) >= TIME_PERIOD:\n",
    "            period_price = price[-TIME_PERIOD:]\n",
    "            bup, bdown = get_BBands(period_price, TIME_PERIOD)\n",
    "            bup_price.append(bup)\n",
    "            bdown_price.append(bdown)\n",
    "            place_order(bup, bdown, cur_price)\n",
    "        else:\n",
    "            bup_price.append(cur_price)\n",
    "            bdown_price.append(cur_price)\n",
    "        position_amount.append(position[\"amount\"])\n",
    "    print(position)\n",
    "\n",
    "    plt.plot(price, '-.')\n",
    "    plt.plot(bup_price, '-g.')\n",
    "    plt.plot(bdown_price, '-r.')\n",
    "    # plt.plot(position_amount, '-b.')\n",
    "    plt.show()\n"
   ]
  },
  {
   "cell_type": "code",
   "execution_count": 14,
   "id": "568ab9aa",
   "metadata": {},
   "outputs": [
    {
     "name": "stdout",
     "output_type": "stream",
     "text": [
      "{'amount': 18.44018678714287, 'average_cost': 410.4421141050937, 'earning': 8260.993794267903}\n"
     ]
    }
   ],
   "source": [
    "# final position\n",
    "print(position)"
   ]
  },
  {
   "cell_type": "code",
   "execution_count": 30,
   "id": "436cc7d9",
   "metadata": {},
   "outputs": [
    {
     "data": {
      "text/html": [
       "<div>\n",
       "<style scoped>\n",
       "    .dataframe tbody tr th:only-of-type {\n",
       "        vertical-align: middle;\n",
       "    }\n",
       "\n",
       "    .dataframe tbody tr th {\n",
       "        vertical-align: top;\n",
       "    }\n",
       "\n",
       "    .dataframe thead th {\n",
       "        text-align: right;\n",
       "    }\n",
       "</style>\n",
       "<table border=\"1\" class=\"dataframe\">\n",
       "  <thead>\n",
       "    <tr style=\"text-align: right;\">\n",
       "      <th></th>\n",
       "      <th>3</th>\n",
       "      <th>4</th>\n",
       "      <th>5</th>\n",
       "      <th>6</th>\n",
       "      <th>7</th>\n",
       "      <th>8</th>\n",
       "      <th>9</th>\n",
       "    </tr>\n",
       "  </thead>\n",
       "  <tbody>\n",
       "    <tr>\n",
       "      <th>0</th>\n",
       "      <td>100.000000</td>\n",
       "      <td>0.142866</td>\n",
       "      <td>0.139336</td>\n",
       "      <td>0.343982</td>\n",
       "      <td>3.396782</td>\n",
       "      <td>0.472228</td>\n",
       "      <td>6.994793</td>\n",
       "    </tr>\n",
       "    <tr>\n",
       "      <th>1</th>\n",
       "      <td>100.000000</td>\n",
       "      <td>0.142866</td>\n",
       "      <td>0.139336</td>\n",
       "      <td>0.343982</td>\n",
       "      <td>3.396782</td>\n",
       "      <td>0.472228</td>\n",
       "      <td>6.994793</td>\n",
       "    </tr>\n",
       "    <tr>\n",
       "      <th>2</th>\n",
       "      <td>100.000000</td>\n",
       "      <td>0.142866</td>\n",
       "      <td>0.139336</td>\n",
       "      <td>0.343982</td>\n",
       "      <td>3.396782</td>\n",
       "      <td>0.472228</td>\n",
       "      <td>6.994793</td>\n",
       "    </tr>\n",
       "    <tr>\n",
       "      <th>3</th>\n",
       "      <td>100.000000</td>\n",
       "      <td>0.142866</td>\n",
       "      <td>0.139336</td>\n",
       "      <td>0.343982</td>\n",
       "      <td>3.396782</td>\n",
       "      <td>0.472228</td>\n",
       "      <td>6.994793</td>\n",
       "    </tr>\n",
       "    <tr>\n",
       "      <th>4</th>\n",
       "      <td>100.000000</td>\n",
       "      <td>0.142866</td>\n",
       "      <td>0.139336</td>\n",
       "      <td>0.343982</td>\n",
       "      <td>3.396782</td>\n",
       "      <td>0.472228</td>\n",
       "      <td>6.994793</td>\n",
       "    </tr>\n",
       "    <tr>\n",
       "      <th>...</th>\n",
       "      <td>...</td>\n",
       "      <td>...</td>\n",
       "      <td>...</td>\n",
       "      <td>...</td>\n",
       "      <td>...</td>\n",
       "      <td>...</td>\n",
       "      <td>...</td>\n",
       "    </tr>\n",
       "    <tr>\n",
       "      <th>655</th>\n",
       "      <td>0.142866</td>\n",
       "      <td>0.139336</td>\n",
       "      <td>0.343982</td>\n",
       "      <td>3.396782</td>\n",
       "      <td>0.472228</td>\n",
       "      <td>6.994793</td>\n",
       "      <td>18.440187</td>\n",
       "    </tr>\n",
       "    <tr>\n",
       "      <th>656</th>\n",
       "      <td>0.142866</td>\n",
       "      <td>0.139336</td>\n",
       "      <td>0.343982</td>\n",
       "      <td>3.396782</td>\n",
       "      <td>0.472228</td>\n",
       "      <td>6.994793</td>\n",
       "      <td>18.440187</td>\n",
       "    </tr>\n",
       "    <tr>\n",
       "      <th>657</th>\n",
       "      <td>0.142866</td>\n",
       "      <td>0.139336</td>\n",
       "      <td>0.343982</td>\n",
       "      <td>3.396782</td>\n",
       "      <td>0.472228</td>\n",
       "      <td>6.994793</td>\n",
       "      <td>18.440187</td>\n",
       "    </tr>\n",
       "    <tr>\n",
       "      <th>658</th>\n",
       "      <td>0.142866</td>\n",
       "      <td>0.139336</td>\n",
       "      <td>0.343982</td>\n",
       "      <td>3.396782</td>\n",
       "      <td>0.472228</td>\n",
       "      <td>6.994793</td>\n",
       "      <td>18.440187</td>\n",
       "    </tr>\n",
       "    <tr>\n",
       "      <th>659</th>\n",
       "      <td>0.142866</td>\n",
       "      <td>0.139336</td>\n",
       "      <td>0.343982</td>\n",
       "      <td>3.396782</td>\n",
       "      <td>0.472228</td>\n",
       "      <td>6.994793</td>\n",
       "      <td>18.440187</td>\n",
       "    </tr>\n",
       "  </tbody>\n",
       "</table>\n",
       "<p>660 rows × 7 columns</p>\n",
       "</div>"
      ],
      "text/plain": [
       "              3         4         5         6         7         8          9\n",
       "0    100.000000  0.142866  0.139336  0.343982  3.396782  0.472228   6.994793\n",
       "1    100.000000  0.142866  0.139336  0.343982  3.396782  0.472228   6.994793\n",
       "2    100.000000  0.142866  0.139336  0.343982  3.396782  0.472228   6.994793\n",
       "3    100.000000  0.142866  0.139336  0.343982  3.396782  0.472228   6.994793\n",
       "4    100.000000  0.142866  0.139336  0.343982  3.396782  0.472228   6.994793\n",
       "..          ...       ...       ...       ...       ...       ...        ...\n",
       "655    0.142866  0.139336  0.343982  3.396782  0.472228  6.994793  18.440187\n",
       "656    0.142866  0.139336  0.343982  3.396782  0.472228  6.994793  18.440187\n",
       "657    0.142866  0.139336  0.343982  3.396782  0.472228  6.994793  18.440187\n",
       "658    0.142866  0.139336  0.343982  3.396782  0.472228  6.994793  18.440187\n",
       "659    0.142866  0.139336  0.343982  3.396782  0.472228  6.994793  18.440187\n",
       "\n",
       "[660 rows x 7 columns]"
      ]
     },
     "execution_count": 30,
     "metadata": {},
     "output_type": "execute_result"
    }
   ],
   "source": [
    "# print real-time position from 2022-06-03 to 2022-06-10\n",
    "import pandas as pd \n",
    "import numpy as np\n",
    "pd.DataFrame(np.array(([100,]*2 + position_amount)).reshape((7,660)).T, columns=[i for i in range(3,10)])"
   ]
  },
  {
   "cell_type": "code",
   "execution_count": 13,
   "id": "2e6e4ad6",
   "metadata": {},
   "outputs": [
    {
     "data": {
      "image/png": "[encoded data removed]",
      "text/plain": [
       "<Figure size 432x288 with 1 Axes>"
      ]
     },
     "metadata": {
      "needs_background": "light"
     },
     "output_type": "display_data"
    }
   ],
   "source": [
    "# print to log\n",
    "import sys\n",
    "old_stdout = sys.stdout\n",
    "log_file = open(\"message.log\",\"w\")\n",
    "sys.stdout = log_file\n",
    "\n",
    "main()\n",
    "\n",
    "sys.stdout = old_stdout\n",
    "log_file.close()"
   ]
  },
  {
   "cell_type": "code",
   "execution_count": null,
   "id": "1b3215e8",
   "metadata": {},
   "outputs": [],
   "source": []
  }
 ],
 "metadata": {
  "kernelspec": {
   "display_name": "Python 3 (ipykernel)",
   "language": "python",
   "name": "python3"
  },
  "language_info": {
   "codemirror_mode": {
    "name": "ipython",
    "version": 3
   },
   "file_extension": ".py",
   "mimetype": "text/x-python",
   "name": "python",
   "nbconvert_exporter": "python",
   "pygments_lexer": "ipython3",
   "version": "3.8.12"
  }
 },
 "nbformat": 4,
 "nbformat_minor": 5
}
